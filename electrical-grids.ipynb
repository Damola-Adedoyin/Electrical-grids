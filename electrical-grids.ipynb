{
 "cells": [
  {
   "cell_type": "code",
   "execution_count": 2,
   "metadata": {
    "execution": {
     "iopub.execute_input": "2022-12-20T21:21:30.044819Z",
     "iopub.status.busy": "2022-12-20T21:21:30.044418Z",
     "iopub.status.idle": "2022-12-20T21:21:32.449073Z",
     "shell.execute_reply": "2022-12-20T21:21:32.448108Z",
     "shell.execute_reply.started": "2022-12-20T21:21:30.044789Z"
    }
   },
   "outputs": [],
   "source": [
    "import pandas as pd\n",
    "import numpy as np\n",
    "import matplotlib.pyplot as plt\n",
    "import pickle\n",
    "import seaborn as sns\n",
    "\n",
    "from imblearn.over_sampling import RandomOverSampler\n",
    "from sklearn.model_selection import train_test_split, cross_val_score, GridSearchCV\n",
    "from sklearn.preprocessing import StandardScaler\n",
    "from sklearn.svm import SVC\n",
    "from sklearn.linear_model import LogisticRegression\n",
    "from sklearn.neighbors import KNeighborsClassifier\n",
    "from sklearn.ensemble import RandomForestClassifier, ExtraTreesClassifier\n",
    "from sklearn.metrics import accuracy_score, ConfusionMatrixDisplay, classification_report, confusion_matrix\n",
    "from sklearn.preprocessing import StandardScaler\n",
    "\n",
    "from lightgbm import LGBMClassifier\n",
    "from xgboost import XGBClassifier\n",
    "\n",
    "%matplotlib inline"
   ]
  },
  {
   "cell_type": "code",
   "execution_count": 4,
   "metadata": {
    "execution": {
     "iopub.execute_input": "2022-12-20T21:21:32.453168Z",
     "iopub.status.busy": "2022-12-20T21:21:32.452815Z",
     "iopub.status.idle": "2022-12-20T21:21:32.573398Z",
     "shell.execute_reply": "2022-12-20T21:21:32.572308Z",
     "shell.execute_reply.started": "2022-12-20T21:21:32.453137Z"
    }
   },
   "outputs": [
    {
     "data": {
      "text/html": [
       "<div>\n",
       "<style scoped>\n",
       "    .dataframe tbody tr th:only-of-type {\n",
       "        vertical-align: middle;\n",
       "    }\n",
       "\n",
       "    .dataframe tbody tr th {\n",
       "        vertical-align: top;\n",
       "    }\n",
       "\n",
       "    .dataframe thead th {\n",
       "        text-align: right;\n",
       "    }\n",
       "</style>\n",
       "<table border=\"1\" class=\"dataframe\">\n",
       "  <thead>\n",
       "    <tr style=\"text-align: right;\">\n",
       "      <th></th>\n",
       "      <th>tau1</th>\n",
       "      <th>tau2</th>\n",
       "      <th>tau3</th>\n",
       "      <th>tau4</th>\n",
       "      <th>p1</th>\n",
       "      <th>p2</th>\n",
       "      <th>p3</th>\n",
       "      <th>p4</th>\n",
       "      <th>g1</th>\n",
       "      <th>g2</th>\n",
       "      <th>g3</th>\n",
       "      <th>g4</th>\n",
       "      <th>stab</th>\n",
       "      <th>stabf</th>\n",
       "    </tr>\n",
       "  </thead>\n",
       "  <tbody>\n",
       "    <tr>\n",
       "      <th>0</th>\n",
       "      <td>2.959060</td>\n",
       "      <td>3.079885</td>\n",
       "      <td>8.381025</td>\n",
       "      <td>9.780754</td>\n",
       "      <td>3.763085</td>\n",
       "      <td>-0.782604</td>\n",
       "      <td>-1.257395</td>\n",
       "      <td>-1.723086</td>\n",
       "      <td>0.650456</td>\n",
       "      <td>0.859578</td>\n",
       "      <td>0.887445</td>\n",
       "      <td>0.958034</td>\n",
       "      <td>0.055347</td>\n",
       "      <td>unstable</td>\n",
       "    </tr>\n",
       "    <tr>\n",
       "      <th>1</th>\n",
       "      <td>9.304097</td>\n",
       "      <td>4.902524</td>\n",
       "      <td>3.047541</td>\n",
       "      <td>1.369357</td>\n",
       "      <td>5.067812</td>\n",
       "      <td>-1.940058</td>\n",
       "      <td>-1.872742</td>\n",
       "      <td>-1.255012</td>\n",
       "      <td>0.413441</td>\n",
       "      <td>0.862414</td>\n",
       "      <td>0.562139</td>\n",
       "      <td>0.781760</td>\n",
       "      <td>-0.005957</td>\n",
       "      <td>stable</td>\n",
       "    </tr>\n",
       "  </tbody>\n",
       "</table>\n",
       "</div>"
      ],
      "text/plain": [
       "       tau1      tau2      tau3      tau4        p1        p2        p3  \\\n",
       "0  2.959060  3.079885  8.381025  9.780754  3.763085 -0.782604 -1.257395   \n",
       "1  9.304097  4.902524  3.047541  1.369357  5.067812 -1.940058 -1.872742   \n",
       "\n",
       "         p4        g1        g2        g3        g4      stab     stabf  \n",
       "0 -1.723086  0.650456  0.859578  0.887445  0.958034  0.055347  unstable  \n",
       "1 -1.255012  0.413441  0.862414  0.562139  0.781760 -0.005957    stable  "
      ]
     },
     "execution_count": 4,
     "metadata": {},
     "output_type": "execute_result"
    }
   ],
   "source": [
    "df = pd.read_csv(\"Data_for_UCI_named.csv\")\n",
    "df.head(2)"
   ]
  },
  {
   "cell_type": "code",
   "execution_count": 5,
   "metadata": {
    "execution": {
     "iopub.execute_input": "2022-12-20T21:21:33.694934Z",
     "iopub.status.busy": "2022-12-20T21:21:33.692274Z",
     "iopub.status.idle": "2022-12-20T21:21:33.728113Z",
     "shell.execute_reply": "2022-12-20T21:21:33.727022Z",
     "shell.execute_reply.started": "2022-12-20T21:21:33.694884Z"
    }
   },
   "outputs": [
    {
     "name": "stdout",
     "output_type": "stream",
     "text": [
      "<class 'pandas.core.frame.DataFrame'>\n",
      "RangeIndex: 10000 entries, 0 to 9999\n",
      "Data columns (total 14 columns):\n",
      " #   Column  Non-Null Count  Dtype  \n",
      "---  ------  --------------  -----  \n",
      " 0   tau1    10000 non-null  float64\n",
      " 1   tau2    10000 non-null  float64\n",
      " 2   tau3    10000 non-null  float64\n",
      " 3   tau4    10000 non-null  float64\n",
      " 4   p1      10000 non-null  float64\n",
      " 5   p2      10000 non-null  float64\n",
      " 6   p3      10000 non-null  float64\n",
      " 7   p4      10000 non-null  float64\n",
      " 8   g1      10000 non-null  float64\n",
      " 9   g2      10000 non-null  float64\n",
      " 10  g3      10000 non-null  float64\n",
      " 11  g4      10000 non-null  float64\n",
      " 12  stab    10000 non-null  float64\n",
      " 13  stabf   10000 non-null  object \n",
      "dtypes: float64(13), object(1)\n",
      "memory usage: 1.1+ MB\n"
     ]
    }
   ],
   "source": [
    "df.info()"
   ]
  },
  {
   "cell_type": "code",
   "execution_count": 6,
   "metadata": {
    "execution": {
     "iopub.execute_input": "2022-12-20T21:21:34.307227Z",
     "iopub.status.busy": "2022-12-20T21:21:34.306795Z",
     "iopub.status.idle": "2022-12-20T21:21:34.318260Z",
     "shell.execute_reply": "2022-12-20T21:21:34.317220Z",
     "shell.execute_reply.started": "2022-12-20T21:21:34.307191Z"
    }
   },
   "outputs": [
    {
     "data": {
      "text/plain": [
       "tau1     0\n",
       "tau2     0\n",
       "tau3     0\n",
       "tau4     0\n",
       "p1       0\n",
       "p2       0\n",
       "p3       0\n",
       "p4       0\n",
       "g1       0\n",
       "g2       0\n",
       "g3       0\n",
       "g4       0\n",
       "stab     0\n",
       "stabf    0\n",
       "dtype: int64"
      ]
     },
     "execution_count": 6,
     "metadata": {},
     "output_type": "execute_result"
    }
   ],
   "source": [
    "df.isnull().sum()"
   ]
  },
  {
   "cell_type": "code",
   "execution_count": 7,
   "metadata": {
    "execution": {
     "iopub.execute_input": "2022-12-20T21:21:35.605614Z",
     "iopub.status.busy": "2022-12-20T21:21:35.602673Z",
     "iopub.status.idle": "2022-12-20T21:21:35.628187Z",
     "shell.execute_reply": "2022-12-20T21:21:35.626838Z",
     "shell.execute_reply.started": "2022-12-20T21:21:35.605532Z"
    }
   },
   "outputs": [
    {
     "data": {
      "text/plain": [
       "0"
      ]
     },
     "execution_count": 7,
     "metadata": {},
     "output_type": "execute_result"
    }
   ],
   "source": [
    "df.duplicated().sum()"
   ]
  },
  {
   "cell_type": "code",
   "execution_count": 8,
   "metadata": {
    "execution": {
     "iopub.execute_input": "2022-12-20T21:21:37.909768Z",
     "iopub.status.busy": "2022-12-20T21:21:37.909338Z",
     "iopub.status.idle": "2022-12-20T21:21:37.931779Z",
     "shell.execute_reply": "2022-12-20T21:21:37.930473Z",
     "shell.execute_reply.started": "2022-12-20T21:21:37.909735Z"
    }
   },
   "outputs": [
    {
     "data": {
      "text/html": [
       "<div>\n",
       "<style scoped>\n",
       "    .dataframe tbody tr th:only-of-type {\n",
       "        vertical-align: middle;\n",
       "    }\n",
       "\n",
       "    .dataframe tbody tr th {\n",
       "        vertical-align: top;\n",
       "    }\n",
       "\n",
       "    .dataframe thead th {\n",
       "        text-align: right;\n",
       "    }\n",
       "</style>\n",
       "<table border=\"1\" class=\"dataframe\">\n",
       "  <thead>\n",
       "    <tr style=\"text-align: right;\">\n",
       "      <th></th>\n",
       "      <th>tau1</th>\n",
       "      <th>tau2</th>\n",
       "      <th>tau3</th>\n",
       "      <th>tau4</th>\n",
       "      <th>p1</th>\n",
       "      <th>p2</th>\n",
       "      <th>p3</th>\n",
       "      <th>p4</th>\n",
       "      <th>g1</th>\n",
       "      <th>g2</th>\n",
       "      <th>g3</th>\n",
       "      <th>g4</th>\n",
       "      <th>stabf</th>\n",
       "    </tr>\n",
       "  </thead>\n",
       "  <tbody>\n",
       "    <tr>\n",
       "      <th>638</th>\n",
       "      <td>1.123531</td>\n",
       "      <td>4.517113</td>\n",
       "      <td>9.470682</td>\n",
       "      <td>6.56915</td>\n",
       "      <td>3.658899</td>\n",
       "      <td>-1.114721</td>\n",
       "      <td>-1.227247</td>\n",
       "      <td>-1.316931</td>\n",
       "      <td>0.144656</td>\n",
       "      <td>0.894082</td>\n",
       "      <td>0.119993</td>\n",
       "      <td>0.395992</td>\n",
       "      <td>stable</td>\n",
       "    </tr>\n",
       "  </tbody>\n",
       "</table>\n",
       "</div>"
      ],
      "text/plain": [
       "         tau1      tau2      tau3     tau4        p1        p2        p3  \\\n",
       "638  1.123531  4.517113  9.470682  6.56915  3.658899 -1.114721 -1.227247   \n",
       "\n",
       "           p4        g1        g2        g3        g4   stabf  \n",
       "638 -1.316931  0.144656  0.894082  0.119993  0.395992  stable  "
      ]
     },
     "execution_count": 8,
     "metadata": {},
     "output_type": "execute_result"
    }
   ],
   "source": [
    "df = df.drop(\"stab\", axis = 1)\n",
    "df.sample()"
   ]
  },
  {
   "cell_type": "code",
   "execution_count": 9,
   "metadata": {
    "execution": {
     "iopub.execute_input": "2022-12-20T21:21:39.125241Z",
     "iopub.status.busy": "2022-12-20T21:21:39.124849Z",
     "iopub.status.idle": "2022-12-20T21:21:39.136590Z",
     "shell.execute_reply": "2022-12-20T21:21:39.135136Z",
     "shell.execute_reply.started": "2022-12-20T21:21:39.125211Z"
    }
   },
   "outputs": [
    {
     "data": {
      "text/plain": [
       "unstable    0.638\n",
       "stable      0.362\n",
       "Name: stabf, dtype: float64"
      ]
     },
     "execution_count": 9,
     "metadata": {},
     "output_type": "execute_result"
    }
   ],
   "source": [
    "df.stabf.value_counts(normalize = True)"
   ]
  },
  {
   "cell_type": "code",
   "execution_count": 10,
   "metadata": {
    "execution": {
     "iopub.execute_input": "2022-12-20T21:53:19.249437Z",
     "iopub.status.busy": "2022-12-20T21:53:19.249000Z",
     "iopub.status.idle": "2022-12-20T21:53:19.268131Z",
     "shell.execute_reply": "2022-12-20T21:53:19.266725Z",
     "shell.execute_reply.started": "2022-12-20T21:53:19.249402Z"
    }
   },
   "outputs": [
    {
     "data": {
      "text/plain": [
       "0       1\n",
       "1       0\n",
       "2       1\n",
       "3       1\n",
       "4       1\n",
       "       ..\n",
       "9995    1\n",
       "9996    0\n",
       "9997    0\n",
       "9998    1\n",
       "9999    1\n",
       "Name: stabf, Length: 10000, dtype: int64"
      ]
     },
     "execution_count": 10,
     "metadata": {},
     "output_type": "execute_result"
    }
   ],
   "source": [
    "target = \"stabf\"\n",
    "y = df[target]\n",
    "y = y.replace({\"unstable\":1, \"stable\":0})\n",
    "y"
   ]
  },
  {
   "cell_type": "code",
   "execution_count": 11,
   "metadata": {
    "execution": {
     "iopub.execute_input": "2022-12-20T21:53:19.654928Z",
     "iopub.status.busy": "2022-12-20T21:53:19.654465Z",
     "iopub.status.idle": "2022-12-20T21:53:19.677791Z",
     "shell.execute_reply": "2022-12-20T21:53:19.676599Z",
     "shell.execute_reply.started": "2022-12-20T21:53:19.654892Z"
    }
   },
   "outputs": [
    {
     "data": {
      "text/html": [
       "<div>\n",
       "<style scoped>\n",
       "    .dataframe tbody tr th:only-of-type {\n",
       "        vertical-align: middle;\n",
       "    }\n",
       "\n",
       "    .dataframe tbody tr th {\n",
       "        vertical-align: top;\n",
       "    }\n",
       "\n",
       "    .dataframe thead th {\n",
       "        text-align: right;\n",
       "    }\n",
       "</style>\n",
       "<table border=\"1\" class=\"dataframe\">\n",
       "  <thead>\n",
       "    <tr style=\"text-align: right;\">\n",
       "      <th></th>\n",
       "      <th>tau1</th>\n",
       "      <th>tau2</th>\n",
       "      <th>tau3</th>\n",
       "      <th>tau4</th>\n",
       "      <th>p1</th>\n",
       "      <th>p2</th>\n",
       "      <th>p3</th>\n",
       "      <th>p4</th>\n",
       "      <th>g1</th>\n",
       "      <th>g2</th>\n",
       "      <th>g3</th>\n",
       "      <th>g4</th>\n",
       "    </tr>\n",
       "  </thead>\n",
       "  <tbody>\n",
       "    <tr>\n",
       "      <th>7965</th>\n",
       "      <td>2.060037</td>\n",
       "      <td>8.40115</td>\n",
       "      <td>3.201655</td>\n",
       "      <td>9.747564</td>\n",
       "      <td>4.060921</td>\n",
       "      <td>-1.902467</td>\n",
       "      <td>-1.399467</td>\n",
       "      <td>-0.758988</td>\n",
       "      <td>0.423748</td>\n",
       "      <td>0.182964</td>\n",
       "      <td>0.178791</td>\n",
       "      <td>0.517955</td>\n",
       "    </tr>\n",
       "  </tbody>\n",
       "</table>\n",
       "</div>"
      ],
      "text/plain": [
       "          tau1     tau2      tau3      tau4        p1        p2        p3  \\\n",
       "7965  2.060037  8.40115  3.201655  9.747564  4.060921 -1.902467 -1.399467   \n",
       "\n",
       "            p4        g1        g2        g3        g4  \n",
       "7965 -0.758988  0.423748  0.182964  0.178791  0.517955  "
      ]
     },
     "execution_count": 11,
     "metadata": {},
     "output_type": "execute_result"
    }
   ],
   "source": [
    "X = df.drop(target, axis = 1)\n",
    "X.sample()"
   ]
  },
  {
   "cell_type": "code",
   "execution_count": 12,
   "metadata": {
    "execution": {
     "iopub.execute_input": "2022-12-20T21:53:20.103252Z",
     "iopub.status.busy": "2022-12-20T21:53:20.102846Z",
     "iopub.status.idle": "2022-12-20T21:53:20.128516Z",
     "shell.execute_reply": "2022-12-20T21:53:20.126993Z",
     "shell.execute_reply.started": "2022-12-20T21:53:20.103220Z"
    }
   },
   "outputs": [
    {
     "data": {
      "text/html": [
       "<div>\n",
       "<style scoped>\n",
       "    .dataframe tbody tr th:only-of-type {\n",
       "        vertical-align: middle;\n",
       "    }\n",
       "\n",
       "    .dataframe tbody tr th {\n",
       "        vertical-align: top;\n",
       "    }\n",
       "\n",
       "    .dataframe thead th {\n",
       "        text-align: right;\n",
       "    }\n",
       "</style>\n",
       "<table border=\"1\" class=\"dataframe\">\n",
       "  <thead>\n",
       "    <tr style=\"text-align: right;\">\n",
       "      <th></th>\n",
       "      <th>tau1</th>\n",
       "      <th>tau2</th>\n",
       "      <th>tau3</th>\n",
       "      <th>tau4</th>\n",
       "      <th>p1</th>\n",
       "      <th>p2</th>\n",
       "      <th>p3</th>\n",
       "      <th>p4</th>\n",
       "      <th>g1</th>\n",
       "      <th>g2</th>\n",
       "      <th>g3</th>\n",
       "      <th>g4</th>\n",
       "    </tr>\n",
       "  </thead>\n",
       "  <tbody>\n",
       "    <tr>\n",
       "      <th>0</th>\n",
       "      <td>-0.835374</td>\n",
       "      <td>-0.791317</td>\n",
       "      <td>1.141704</td>\n",
       "      <td>1.652103</td>\n",
       "      <td>0.017397</td>\n",
       "      <td>1.079405</td>\n",
       "      <td>-0.017078</td>\n",
       "      <td>-1.092545</td>\n",
       "      <td>0.457467</td>\n",
       "      <td>1.220013</td>\n",
       "      <td>1.321628</td>\n",
       "      <td>1.579026</td>\n",
       "    </tr>\n",
       "    <tr>\n",
       "      <th>1</th>\n",
       "      <td>1.478297</td>\n",
       "      <td>-0.126705</td>\n",
       "      <td>-0.803111</td>\n",
       "      <td>-1.415043</td>\n",
       "      <td>1.752124</td>\n",
       "      <td>-1.593619</td>\n",
       "      <td>-1.438158</td>\n",
       "      <td>-0.011575</td>\n",
       "      <td>-0.406791</td>\n",
       "      <td>1.230354</td>\n",
       "      <td>0.135424</td>\n",
       "      <td>0.936256</td>\n",
       "    </tr>\n",
       "    <tr>\n",
       "      <th>2</th>\n",
       "      <td>1.357093</td>\n",
       "      <td>1.312140</td>\n",
       "      <td>-0.803499</td>\n",
       "      <td>-1.471504</td>\n",
       "      <td>-0.458492</td>\n",
       "      <td>0.098253</td>\n",
       "      <td>-0.062840</td>\n",
       "      <td>0.760963</td>\n",
       "      <td>-1.319852</td>\n",
       "      <td>0.881299</td>\n",
       "      <td>1.146596</td>\n",
       "      <td>-1.513802</td>\n",
       "    </tr>\n",
       "    <tr>\n",
       "      <th>3</th>\n",
       "      <td>-1.653138</td>\n",
       "      <td>0.882289</td>\n",
       "      <td>-0.278354</td>\n",
       "      <td>-1.060901</td>\n",
       "      <td>0.284250</td>\n",
       "      <td>0.513904</td>\n",
       "      <td>-1.591046</td>\n",
       "      <td>0.583414</td>\n",
       "      <td>-0.287304</td>\n",
       "      <td>1.647250</td>\n",
       "      <td>1.474543</td>\n",
       "      <td>-0.591750</td>\n",
       "    </tr>\n",
       "    <tr>\n",
       "      <th>4</th>\n",
       "      <td>-0.771543</td>\n",
       "      <td>0.860108</td>\n",
       "      <td>-0.111670</td>\n",
       "      <td>1.680114</td>\n",
       "      <td>-0.298075</td>\n",
       "      <td>0.287450</td>\n",
       "      <td>-1.376343</td>\n",
       "      <td>1.606636</td>\n",
       "      <td>0.992226</td>\n",
       "      <td>-0.253610</td>\n",
       "      <td>0.481133</td>\n",
       "      <td>1.079063</td>\n",
       "    </tr>\n",
       "  </tbody>\n",
       "</table>\n",
       "</div>"
      ],
      "text/plain": [
       "       tau1      tau2      tau3      tau4        p1        p2        p3  \\\n",
       "0 -0.835374 -0.791317  1.141704  1.652103  0.017397  1.079405 -0.017078   \n",
       "1  1.478297 -0.126705 -0.803111 -1.415043  1.752124 -1.593619 -1.438158   \n",
       "2  1.357093  1.312140 -0.803499 -1.471504 -0.458492  0.098253 -0.062840   \n",
       "3 -1.653138  0.882289 -0.278354 -1.060901  0.284250  0.513904 -1.591046   \n",
       "4 -0.771543  0.860108 -0.111670  1.680114 -0.298075  0.287450 -1.376343   \n",
       "\n",
       "         p4        g1        g2        g3        g4  \n",
       "0 -1.092545  0.457467  1.220013  1.321628  1.579026  \n",
       "1 -0.011575 -0.406791  1.230354  0.135424  0.936256  \n",
       "2  0.760963 -1.319852  0.881299  1.146596 -1.513802  \n",
       "3  0.583414 -0.287304  1.647250  1.474543 -0.591750  \n",
       "4  1.606636  0.992226 -0.253610  0.481133  1.079063  "
      ]
     },
     "execution_count": 12,
     "metadata": {},
     "output_type": "execute_result"
    }
   ],
   "source": [
    "# Scale the featured variables\n",
    "scaler = StandardScaler()\n",
    "scaled_X = pd.DataFrame(scaler.fit_transform(X), columns=X.columns)\n",
    "scaled_X.head()"
   ]
  },
  {
   "cell_type": "code",
   "execution_count": 13,
   "metadata": {
    "execution": {
     "iopub.execute_input": "2022-12-20T21:53:21.065319Z",
     "iopub.status.busy": "2022-12-20T21:53:21.064919Z",
     "iopub.status.idle": "2022-12-20T21:53:22.452117Z",
     "shell.execute_reply": "2022-12-20T21:53:22.450867Z",
     "shell.execute_reply.started": "2022-12-20T21:53:21.065287Z"
    }
   },
   "outputs": [
    {
     "data": {
      "image/png": "[encoded data removed]",
      "text/plain": [
       "<Figure size 1200x500 with 2 Axes>"
      ]
     },
     "metadata": {},
     "output_type": "display_data"
    }
   ],
   "source": [
    "plt.figure(figsize=[12,5])\n",
    "sns.heatmap(scaled_X.abs().corr(), annot=True, linewidths=0.5, cmap = \"viridis\");"
   ]
  },
  {
   "cell_type": "code",
   "execution_count": 14,
   "metadata": {
    "execution": {
     "iopub.execute_input": "2022-12-20T21:53:22.454877Z",
     "iopub.status.busy": "2022-12-20T21:53:22.454453Z",
     "iopub.status.idle": "2022-12-20T21:53:22.511841Z",
     "shell.execute_reply": "2022-12-20T21:53:22.510591Z",
     "shell.execute_reply.started": "2022-12-20T21:53:22.454843Z"
    }
   },
   "outputs": [
    {
     "data": {
      "text/html": [
       "<div>\n",
       "<style scoped>\n",
       "    .dataframe tbody tr th:only-of-type {\n",
       "        vertical-align: middle;\n",
       "    }\n",
       "\n",
       "    .dataframe tbody tr th {\n",
       "        vertical-align: top;\n",
       "    }\n",
       "\n",
       "    .dataframe thead th {\n",
       "        text-align: right;\n",
       "    }\n",
       "</style>\n",
       "<table border=\"1\" class=\"dataframe\">\n",
       "  <thead>\n",
       "    <tr style=\"text-align: right;\">\n",
       "      <th></th>\n",
       "      <th>count</th>\n",
       "      <th>mean</th>\n",
       "      <th>std</th>\n",
       "      <th>min</th>\n",
       "      <th>25%</th>\n",
       "      <th>50%</th>\n",
       "      <th>75%</th>\n",
       "      <th>max</th>\n",
       "    </tr>\n",
       "  </thead>\n",
       "  <tbody>\n",
       "    <tr>\n",
       "      <th>tau1</th>\n",
       "      <td>10000.0</td>\n",
       "      <td>-1.919187e-16</td>\n",
       "      <td>1.00005</td>\n",
       "      <td>-1.731763</td>\n",
       "      <td>-0.866066</td>\n",
       "      <td>0.000001</td>\n",
       "      <td>0.865913</td>\n",
       "      <td>1.731859</td>\n",
       "    </tr>\n",
       "    <tr>\n",
       "      <th>tau2</th>\n",
       "      <td>10000.0</td>\n",
       "      <td>-3.972378e-17</td>\n",
       "      <td>1.00005</td>\n",
       "      <td>-1.732001</td>\n",
       "      <td>-0.865975</td>\n",
       "      <td>-0.000007</td>\n",
       "      <td>0.865987</td>\n",
       "      <td>1.731992</td>\n",
       "    </tr>\n",
       "    <tr>\n",
       "      <th>tau3</th>\n",
       "      <td>10000.0</td>\n",
       "      <td>-7.942536e-17</td>\n",
       "      <td>1.00005</td>\n",
       "      <td>-1.731766</td>\n",
       "      <td>-0.865837</td>\n",
       "      <td>-0.000009</td>\n",
       "      <td>0.866006</td>\n",
       "      <td>1.731850</td>\n",
       "    </tr>\n",
       "    <tr>\n",
       "      <th>tau4</th>\n",
       "      <td>10000.0</td>\n",
       "      <td>-2.283951e-16</td>\n",
       "      <td>1.00005</td>\n",
       "      <td>-1.731874</td>\n",
       "      <td>-0.866041</td>\n",
       "      <td>-0.000096</td>\n",
       "      <td>0.865966</td>\n",
       "      <td>1.731846</td>\n",
       "    </tr>\n",
       "    <tr>\n",
       "      <th>p1</th>\n",
       "      <td>10000.0</td>\n",
       "      <td>-3.023137e-16</td>\n",
       "      <td>1.00005</td>\n",
       "      <td>-2.881725</td>\n",
       "      <td>-0.706933</td>\n",
       "      <td>0.001363</td>\n",
       "      <td>0.707890</td>\n",
       "      <td>2.811268</td>\n",
       "    </tr>\n",
       "    <tr>\n",
       "      <th>p2</th>\n",
       "      <td>10000.0</td>\n",
       "      <td>-1.813716e-16</td>\n",
       "      <td>1.00005</td>\n",
       "      <td>-1.731796</td>\n",
       "      <td>-0.865796</td>\n",
       "      <td>0.000079</td>\n",
       "      <td>0.866078</td>\n",
       "      <td>1.731800</td>\n",
       "    </tr>\n",
       "    <tr>\n",
       "      <th>p3</th>\n",
       "      <td>10000.0</td>\n",
       "      <td>-1.297074e-16</td>\n",
       "      <td>1.00005</td>\n",
       "      <td>-1.731921</td>\n",
       "      <td>-0.866083</td>\n",
       "      <td>0.000059</td>\n",
       "      <td>0.865924</td>\n",
       "      <td>1.731880</td>\n",
       "    </tr>\n",
       "    <tr>\n",
       "      <th>p4</th>\n",
       "      <td>10000.0</td>\n",
       "      <td>-4.056755e-17</td>\n",
       "      <td>1.00005</td>\n",
       "      <td>-1.731879</td>\n",
       "      <td>-0.865931</td>\n",
       "      <td>-0.000017</td>\n",
       "      <td>0.865874</td>\n",
       "      <td>1.731991</td>\n",
       "    </tr>\n",
       "    <tr>\n",
       "      <th>g1</th>\n",
       "      <td>10000.0</td>\n",
       "      <td>1.723732e-16</td>\n",
       "      <td>1.00005</td>\n",
       "      <td>-1.732013</td>\n",
       "      <td>-0.865945</td>\n",
       "      <td>0.000034</td>\n",
       "      <td>0.865787</td>\n",
       "      <td>1.731819</td>\n",
       "    </tr>\n",
       "    <tr>\n",
       "      <th>g2</th>\n",
       "      <td>10000.0</td>\n",
       "      <td>1.033396e-16</td>\n",
       "      <td>1.00005</td>\n",
       "      <td>-1.731859</td>\n",
       "      <td>-0.865839</td>\n",
       "      <td>0.000011</td>\n",
       "      <td>0.865990</td>\n",
       "      <td>1.731848</td>\n",
       "    </tr>\n",
       "    <tr>\n",
       "      <th>g3</th>\n",
       "      <td>10000.0</td>\n",
       "      <td>3.405054e-17</td>\n",
       "      <td>1.00005</td>\n",
       "      <td>-1.731858</td>\n",
       "      <td>-0.865978</td>\n",
       "      <td>0.000052</td>\n",
       "      <td>0.865807</td>\n",
       "      <td>1.731985</td>\n",
       "    </tr>\n",
       "    <tr>\n",
       "      <th>g4</th>\n",
       "      <td>10000.0</td>\n",
       "      <td>1.095124e-16</td>\n",
       "      <td>1.00005</td>\n",
       "      <td>-1.731949</td>\n",
       "      <td>-0.866047</td>\n",
       "      <td>0.000006</td>\n",
       "      <td>0.865782</td>\n",
       "      <td>1.731797</td>\n",
       "    </tr>\n",
       "  </tbody>\n",
       "</table>\n",
       "</div>"
      ],
      "text/plain": [
       "        count          mean      std       min       25%       50%       75%  \\\n",
       "tau1  10000.0 -1.919187e-16  1.00005 -1.731763 -0.866066  0.000001  0.865913   \n",
       "tau2  10000.0 -3.972378e-17  1.00005 -1.732001 -0.865975 -0.000007  0.865987   \n",
       "tau3  10000.0 -7.942536e-17  1.00005 -1.731766 -0.865837 -0.000009  0.866006   \n",
       "tau4  10000.0 -2.283951e-16  1.00005 -1.731874 -0.866041 -0.000096  0.865966   \n",
       "p1    10000.0 -3.023137e-16  1.00005 -2.881725 -0.706933  0.001363  0.707890   \n",
       "p2    10000.0 -1.813716e-16  1.00005 -1.731796 -0.865796  0.000079  0.866078   \n",
       "p3    10000.0 -1.297074e-16  1.00005 -1.731921 -0.866083  0.000059  0.865924   \n",
       "p4    10000.0 -4.056755e-17  1.00005 -1.731879 -0.865931 -0.000017  0.865874   \n",
       "g1    10000.0  1.723732e-16  1.00005 -1.732013 -0.865945  0.000034  0.865787   \n",
       "g2    10000.0  1.033396e-16  1.00005 -1.731859 -0.865839  0.000011  0.865990   \n",
       "g3    10000.0  3.405054e-17  1.00005 -1.731858 -0.865978  0.000052  0.865807   \n",
       "g4    10000.0  1.095124e-16  1.00005 -1.731949 -0.866047  0.000006  0.865782   \n",
       "\n",
       "           max  \n",
       "tau1  1.731859  \n",
       "tau2  1.731992  \n",
       "tau3  1.731850  \n",
       "tau4  1.731846  \n",
       "p1    2.811268  \n",
       "p2    1.731800  \n",
       "p3    1.731880  \n",
       "p4    1.731991  \n",
       "g1    1.731819  \n",
       "g2    1.731848  \n",
       "g3    1.731985  \n",
       "g4    1.731797  "
      ]
     },
     "execution_count": 14,
     "metadata": {},
     "output_type": "execute_result"
    }
   ],
   "source": [
    "scaled_X.describe().T"
   ]
  },
  {
   "cell_type": "code",
   "execution_count": 15,
   "metadata": {
    "execution": {
     "iopub.execute_input": "2022-12-20T21:53:23.097249Z",
     "iopub.status.busy": "2022-12-20T21:53:23.096839Z",
     "iopub.status.idle": "2022-12-20T21:53:23.108358Z",
     "shell.execute_reply": "2022-12-20T21:53:23.107269Z",
     "shell.execute_reply.started": "2022-12-20T21:53:23.097214Z"
    }
   },
   "outputs": [
    {
     "name": "stdout",
     "output_type": "stream",
     "text": [
      "X_train:  (8000, 12)\n",
      "X_test:  (2000, 12)\n",
      "y_train:  (8000,)\n",
      "y_test:  (2000,)\n"
     ]
    }
   ],
   "source": [
    "X_train, X_test, y_train, y_test = train_test_split(scaled_X, y, test_size=0.2, random_state=1)\n",
    "print(\"X_train: \", X_train.shape)\n",
    "print(\"X_test: \", X_test.shape)\n",
    "print(\"y_train: \", y_train.shape)\n",
    "print(\"y_test: \", y_test.shape)"
   ]
  },
  {
   "cell_type": "code",
   "execution_count": 16,
   "metadata": {
    "execution": {
     "iopub.execute_input": "2022-12-20T22:03:49.496559Z",
     "iopub.status.busy": "2022-12-20T22:03:49.496115Z",
     "iopub.status.idle": "2022-12-20T22:03:49.506759Z",
     "shell.execute_reply": "2022-12-20T22:03:49.505827Z",
     "shell.execute_reply.started": "2022-12-20T22:03:49.496522Z"
    }
   },
   "outputs": [
    {
     "data": {
      "text/plain": [
       "{'random-forest-classifier': RandomForestClassifier(random_state=1),\n",
       " 'extra-trees-classifier': ExtraTreesClassifier(random_state=1),\n",
       " 'XGB-classifier': XGBClassifier(base_score=None, booster=None, colsample_bylevel=None,\n",
       "               colsample_bynode=None, colsample_bytree=None,\n",
       "               enable_categorical=False, gamma=None, gpu_id=None,\n",
       "               importance_type=None, interaction_constraints=None,\n",
       "               learning_rate=None, max_delta_step=None, max_depth=None,\n",
       "               min_child_weight=None, missing=nan, monotone_constraints=None,\n",
       "               n_estimators=100, n_jobs=None, num_parallel_tree=None,\n",
       "               predictor=None, random_state=1, reg_alpha=None, reg_lambda=None,\n",
       "               scale_pos_weight=None, subsample=None, tree_method=None,\n",
       "               validate_parameters=None, verbosity=None),\n",
       " 'LGBM-classifier': LGBMClassifier(random_state=1)}"
      ]
     },
     "execution_count": 16,
     "metadata": {},
     "output_type": "execute_result"
    }
   ],
   "source": [
    "models = {\n",
    "    \"random-forest-classifier\": RandomForestClassifier(random_state=1),\n",
    "    \"extra-trees-classifier\": ExtraTreesClassifier(random_state=1),\n",
    "    \"XGB-classifier\": XGBClassifier(random_state=1),\n",
    "    \"LGBM-classifier\": LGBMClassifier(random_state=1)\n",
    "}\n",
    "models"
   ]
  },
  {
   "cell_type": "code",
   "execution_count": 17,
   "metadata": {
    "execution": {
     "iopub.execute_input": "2022-12-20T22:20:53.909720Z",
     "iopub.status.busy": "2022-12-20T22:20:53.909271Z",
     "iopub.status.idle": "2022-12-20T22:20:59.364649Z",
     "shell.execute_reply": "2022-12-20T22:20:59.363375Z",
     "shell.execute_reply.started": "2022-12-20T22:20:53.909680Z"
    }
   },
   "outputs": [
    {
     "name": "stderr",
     "output_type": "stream",
     "text": [
      "C:\\Users\\damol\\anaconda3\\lib\\site-packages\\xgboost\\sklearn.py:1224: UserWarning: The use of label encoder in XGBClassifier is deprecated and will be removed in a future release. To remove this warning, do the following: 1) Pass option use_label_encoder=False when constructing XGBClassifier object; and 2) Encode your labels (y) as integers starting with 0, i.e. 0, 1, 2, ..., [num_class - 1].\n",
      "  warnings.warn(label_encoder_deprecation_msg, UserWarning)\n",
      "C:\\Users\\damol\\anaconda3\\lib\\site-packages\\xgboost\\data.py:250: FutureWarning: pandas.Int64Index is deprecated and will be removed from pandas in a future version. Use pandas.Index with the appropriate dtype instead.\n",
      "  elif isinstance(data.columns, (pd.Int64Index, pd.RangeIndex)):\n"
     ]
    },
    {
     "name": "stdout",
     "output_type": "stream",
     "text": [
      "[23:32:21] WARNING: C:\\Windows\\Temp\\abs_557yfx631l\\croots\\recipe\\xgboost-split_1659548953302\\work\\src\\learner.cc:1115: Starting in XGBoost 1.3.0, the default evaluation metric used with the objective 'binary:logistic' was changed from 'error' to 'logloss'. Explicitly set eval_metric if you'd like to restore the old behavior.\n"
     ]
    },
    {
     "data": {
      "image/png": "[encoded data removed]",
      "text/plain": [
       "<Figure size 640x480 with 1 Axes>"
      ]
     },
     "metadata": {},
     "output_type": "display_data"
    }
   ],
   "source": [
    "model_score = {}\n",
    "for name, model in models.items():\n",
    "    # Fit model\n",
    "    model.fit(X_train, y_train)\n",
    "    \n",
    "    # Score model\n",
    "    model_score[name] = model.score(X_test, y_test)\n",
    "    \n",
    "    importances = model.feature_importances_\n",
    "\n",
    "    # Put importances into a Series\n",
    "    feat_imp = pd.Series(importances, index = X_train.columns).sort_values(key=abs)\n",
    "\n",
    "    # Plot series\n",
    "    feat_imp.tail.plot(kind = \"barh\")\n",
    "    plt.xlabel(\"Importance\")\n",
    "    plt.ylabel(\"Features\")\n",
    "    plt.title(\"model Feature Importance\")\n",
    "    \n",
    "model_score = pd.Series(model_score)  \n",
    "    "
   ]
  },
  {
   "cell_type": "code",
   "execution_count": 18,
   "metadata": {
    "execution": {
     "iopub.execute_input": "2022-12-20T22:20:59.367250Z",
     "iopub.status.busy": "2022-12-20T22:20:59.366620Z",
     "iopub.status.idle": "2022-12-20T22:20:59.376704Z",
     "shell.execute_reply": "2022-12-20T22:20:59.375247Z",
     "shell.execute_reply.started": "2022-12-20T22:20:59.367213Z"
    }
   },
   "outputs": [
    {
     "data": {
      "text/plain": [
       "random-forest-classifier    0.9290\n",
       "extra-trees-classifier      0.9280\n",
       "XGB-classifier              0.9455\n",
       "LGBM-classifier             0.9400\n",
       "dtype: float64"
      ]
     },
     "execution_count": 18,
     "metadata": {},
     "output_type": "execute_result"
    }
   ],
   "source": [
    "model_score"
   ]
  },
  {
   "cell_type": "code",
   "execution_count": null,
   "metadata": {},
   "outputs": [],
   "source": []
  }
 ],
 "metadata": {
  "kernelspec": {
   "display_name": "Python 3 (ipykernel)",
   "language": "python",
   "name": "python3"
  },
  "language_info": {
   "codemirror_mode": {
    "name": "ipython",
    "version": 3
   },
   "file_extension": ".py",
   "mimetype": "text/x-python",
   "name": "python",
   "nbconvert_exporter": "python",
   "pygments_lexer": "ipython3",
   "version": "3.9.13"
  },
  "varInspector": {
   "cols": {
    "lenName": 16,
    "lenType": 16,
    "lenVar": 40
   },
   "kernels_config": {
    "python": {
     "delete_cmd_postfix": "",
     "delete_cmd_prefix": "del ",
     "library": "var_list.py",
     "varRefreshCmd": "print(var_dic_list())"
    },
    "r": {
     "delete_cmd_postfix": ") ",
     "delete_cmd_prefix": "rm(",
     "library": "var_list.r",
     "varRefreshCmd": "cat(var_dic_list()) "
    }
   },
   "types_to_exclude": [
    "module",
    "function",
    "builtin_function_or_method",
    "instance",
    "_Feature"
   ],
   "window_display": false
  }
 },
 "nbformat": 4,
 "nbformat_minor": 4
}
